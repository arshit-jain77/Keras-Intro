{
 "cells": [
  {
   "cell_type": "code",
   "execution_count": 9,
   "metadata": {},
   "outputs": [],
   "source": [
    "import keras"
   ]
  },
  {
   "cell_type": "code",
   "execution_count": 10,
   "metadata": {},
   "outputs": [],
   "source": [
    "from keras.models import Sequential"
   ]
  },
  {
   "cell_type": "code",
   "execution_count": 11,
   "metadata": {},
   "outputs": [],
   "source": [
    "#creating a model\n",
    "model=Sequential()"
   ]
  },
  {
   "cell_type": "code",
   "execution_count": 12,
   "metadata": {},
   "outputs": [],
   "source": [
    "from keras.layers import Dense"
   ]
  },
  {
   "cell_type": "code",
   "execution_count": 13,
   "metadata": {},
   "outputs": [],
   "source": [
    "layer1=Dense(units=32, activation='relu', input_dim=30)\n",
    "model.add(layer1)\n",
    "model.add(Dense(units=16, activation='relu'))\n",
    "model.add(Dense(units=1, activation='sigmoid'))"
   ]
  },
  {
   "cell_type": "code",
   "execution_count": 14,
   "metadata": {},
   "outputs": [],
   "source": [
    "model.compile(optimizer='adam',loss='binary_crossentropy', metrics=['accuracy'])"
   ]
  },
  {
   "cell_type": "code",
   "execution_count": 15,
   "metadata": {},
   "outputs": [],
   "source": [
    "from sklearn import datasets\n",
    "cancer=datasets.load_breast_cancer()\n",
    "from sklearn.model_selection import train_test_split\n",
    "x_train,x_test,y_train,y_test=train_test_split(cancer.data, cancer.target,test_size=0.2,random_state=0)\n",
    "from sklearn.preprocessing import StandardScaler\n",
    "\n",
    "sc=StandardScaler()\n",
    "x_train=sc.fit_transform(x_train)\n",
    "x_test=sc.transform(x_test)"
   ]
  },
  {
   "cell_type": "code",
   "execution_count": 16,
   "metadata": {},
   "outputs": [
    {
     "name": "stdout",
     "output_type": "stream",
     "text": [
      "Train on 455 samples, validate on 114 samples\n",
      "Epoch 1/20\n",
      "455/455 [==============================] - 0s 1ms/step - loss: 0.5892 - accuracy: 0.6901 - val_loss: 0.4932 - val_accuracy: 0.8509\n",
      "Epoch 2/20\n",
      "455/455 [==============================] - 0s 39us/step - loss: 0.4269 - accuracy: 0.8901 - val_loss: 0.3656 - val_accuracy: 0.9211\n",
      "Epoch 3/20\n",
      "455/455 [==============================] - 0s 47us/step - loss: 0.3169 - accuracy: 0.9275 - val_loss: 0.2852 - val_accuracy: 0.9386\n",
      "Epoch 4/20\n",
      "455/455 [==============================] - 0s 60us/step - loss: 0.2457 - accuracy: 0.9341 - val_loss: 0.2337 - val_accuracy: 0.9298\n",
      "Epoch 5/20\n",
      "455/455 [==============================] - 0s 53us/step - loss: 0.1987 - accuracy: 0.9429 - val_loss: 0.1993 - val_accuracy: 0.9298\n",
      "Epoch 6/20\n",
      "455/455 [==============================] - 0s 54us/step - loss: 0.1667 - accuracy: 0.9495 - val_loss: 0.1770 - val_accuracy: 0.9386\n",
      "Epoch 7/20\n",
      "455/455 [==============================] - 0s 51us/step - loss: 0.1453 - accuracy: 0.9516 - val_loss: 0.1612 - val_accuracy: 0.9386\n",
      "Epoch 8/20\n",
      "455/455 [==============================] - 0s 52us/step - loss: 0.1290 - accuracy: 0.9582 - val_loss: 0.1490 - val_accuracy: 0.9474\n",
      "Epoch 9/20\n",
      "455/455 [==============================] - 0s 51us/step - loss: 0.1185 - accuracy: 0.9714 - val_loss: 0.1399 - val_accuracy: 0.9474\n",
      "Epoch 10/20\n",
      "455/455 [==============================] - 0s 59us/step - loss: 0.1097 - accuracy: 0.9714 - val_loss: 0.1324 - val_accuracy: 0.9474\n",
      "Epoch 11/20\n",
      "455/455 [==============================] - 0s 45us/step - loss: 0.1026 - accuracy: 0.9714 - val_loss: 0.1274 - val_accuracy: 0.9474\n",
      "Epoch 12/20\n",
      "455/455 [==============================] - 0s 57us/step - loss: 0.0970 - accuracy: 0.9714 - val_loss: 0.1230 - val_accuracy: 0.9474\n",
      "Epoch 13/20\n",
      "455/455 [==============================] - 0s 51us/step - loss: 0.0923 - accuracy: 0.9714 - val_loss: 0.1190 - val_accuracy: 0.9474\n",
      "Epoch 14/20\n",
      "455/455 [==============================] - 0s 60us/step - loss: 0.0879 - accuracy: 0.9714 - val_loss: 0.1157 - val_accuracy: 0.9474\n",
      "Epoch 15/20\n",
      "455/455 [==============================] - 0s 66us/step - loss: 0.0843 - accuracy: 0.9714 - val_loss: 0.1121 - val_accuracy: 0.9474\n",
      "Epoch 16/20\n",
      "455/455 [==============================] - 0s 44us/step - loss: 0.0811 - accuracy: 0.9714 - val_loss: 0.1089 - val_accuracy: 0.9474\n",
      "Epoch 17/20\n",
      "455/455 [==============================] - 0s 50us/step - loss: 0.0780 - accuracy: 0.9736 - val_loss: 0.1055 - val_accuracy: 0.9474\n",
      "Epoch 18/20\n",
      "455/455 [==============================] - 0s 43us/step - loss: 0.0762 - accuracy: 0.9780 - val_loss: 0.1024 - val_accuracy: 0.9561\n",
      "Epoch 19/20\n",
      "455/455 [==============================] - 0s 42us/step - loss: 0.0739 - accuracy: 0.9780 - val_loss: 0.1006 - val_accuracy: 0.9561\n",
      "Epoch 20/20\n",
      "455/455 [==============================] - 0s 58us/step - loss: 0.0719 - accuracy: 0.9802 - val_loss: 0.0985 - val_accuracy: 0.9561\n"
     ]
    },
    {
     "data": {
      "text/plain": [
       "<keras.callbacks.callbacks.History at 0x1901e57c648>"
      ]
     },
     "execution_count": 16,
     "metadata": {},
     "output_type": "execute_result"
    }
   ],
   "source": [
    "model.fit(x_train, y_train, epochs=20, batch_size=50, validation_data=(x_test,y_test))"
   ]
  },
  {
   "cell_type": "code",
   "execution_count": 17,
   "metadata": {},
   "outputs": [
    {
     "name": "stdout",
     "output_type": "stream",
     "text": [
      "114/114 [==============================] - 0s 35us/step\n"
     ]
    },
    {
     "data": {
      "text/plain": [
       "[0.09853742624583997, 0.9561403393745422]"
      ]
     },
     "execution_count": 17,
     "metadata": {},
     "output_type": "execute_result"
    }
   ],
   "source": [
    "predictions=model.predict(x_test)\n",
    "score=model.evaluate(x_test, y_test)\n",
    "score #score(loss,accuracy)"
   ]
  },
  {
   "cell_type": "code",
   "execution_count": null,
   "metadata": {},
   "outputs": [],
   "source": []
  }
 ],
 "metadata": {
  "kernelspec": {
   "display_name": "Python 3",
   "language": "python",
   "name": "python3"
  },
  "language_info": {
   "codemirror_mode": {
    "name": "ipython",
    "version": 3
   },
   "file_extension": ".py",
   "mimetype": "text/x-python",
   "name": "python",
   "nbconvert_exporter": "python",
   "pygments_lexer": "ipython3",
   "version": "3.7.4"
  }
 },
 "nbformat": 4,
 "nbformat_minor": 2
}
